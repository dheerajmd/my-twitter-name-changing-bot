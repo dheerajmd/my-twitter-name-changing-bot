{
  "nbformat": 4,
  "nbformat_minor": 0,
  "metadata": {
    "colab": {
      "name": "Major project details",
      "provenance": [],
      "collapsed_sections": [],
      "authorship_tag": "ABX9TyMl16JfclQY9fvVRiNVzz2e",
      "include_colab_link": true
    },
    "kernelspec": {
      "name": "python3",
      "display_name": "Python 3"
    }
  },
  "cells": [
    {
      "cell_type": "markdown",
      "metadata": {
        "id": "view-in-github",
        "colab_type": "text"
      },
      "source": [
        "<a href=\"https://colab.research.google.com/github/dheerajmd/my-twitter-name-changing-bot/blob/master/Major_project_details.ipynb\" target=\"_parent\"><img src=\"https://colab.research.google.com/assets/colab-badge.svg\" alt=\"Open In Colab\"/></a>"
      ]
    },
    {
      "cell_type": "code",
      "metadata": {
        "id": "Uoh8RRTJM9gs",
        "colab_type": "code",
        "colab": {}
      },
      "source": [
        "!pip install adafruit-io\n"
      ],
      "execution_count": null,
      "outputs": []
    },
    {
      "cell_type": "code",
      "metadata": {
        "id": "jum8VFPtLktV",
        "colab_type": "code",
        "colab": {}
      },
      "source": [
        "x= \"Dheeraj_\" #ADAFRUIT_IO_USERNAME \n",
        "y= \"aio_mVCS11igVffAb7pI6DDfvI0GqWyt\" #ADAFRUIT_IO_KEY \n",
        "\n"
      ],
      "execution_count": null,
      "outputs": []
    },
    {
      "cell_type": "code",
      "metadata": {
        "id": "h7QL8olSMyt-",
        "colab_type": "code",
        "colab": {}
      },
      "source": [
        "from Adafruit_IO import Client, Feed\n",
        "aio = Client(x,y)"
      ],
      "execution_count": null,
      "outputs": []
    },
    {
      "cell_type": "code",
      "metadata": {
        "id": "tb4e-wW5M7E2",
        "colab_type": "code",
        "colab": {}
      },
      "source": [
        "#create a feed\n",
        "new = Feed(name='bot123')#feed name is given\n",
        "\n"
      ],
      "execution_count": null,
      "outputs": []
    },
    {
      "cell_type": "code",
      "metadata": {
        "id": "-G26-nddNllg",
        "colab_type": "code",
        "colab": {}
      },
      "source": [
        "result = aio.create_feed(new)\n"
      ],
      "execution_count": null,
      "outputs": []
    },
    {
      "cell_type": "code",
      "metadata": {
        "id": "LKZjdDOreVP6",
        "colab_type": "code",
        "colab": {}
      },
      "source": [
        "result"
      ],
      "execution_count": null,
      "outputs": []
    },
    {
      "cell_type": "markdown",
      "metadata": {
        "id": "UDIO5xH6finW",
        "colab_type": "text"
      },
      "source": [
        ""
      ]
    },
    {
      "cell_type": "code",
      "metadata": {
        "id": "MZsejB3FPQ9W",
        "colab_type": "code",
        "colab": {}
      },
      "source": [
        "from Adafruit_IO import Data\n",
        "value=Data(value=0)\n",
        "value_send=aio.create_data('bot123',value)"
      ],
      "execution_count": null,
      "outputs": []
    },
    {
      "cell_type": "code",
      "metadata": {
        "id": "UmY1qVdfPocm",
        "colab_type": "code",
        "colab": {}
      },
      "source": [
        "#telegram api\n",
        "#1how to create telegram bot\n",
        "#2.how to send query?\n",
        "\n"
      ],
      "execution_count": null,
      "outputs": []
    },
    {
      "cell_type": "code",
      "metadata": {
        "id": "h4IACOkqUqSN",
        "colab_type": "code",
        "colab": {}
      },
      "source": [
        "!pip install python-telegram-bot\n"
      ],
      "execution_count": null,
      "outputs": []
    },
    {
      "cell_type": "code",
      "metadata": {
        "id": "Sk8ywa__Vc-G",
        "colab_type": "code",
        "colab": {
          "base_uri": "https://localhost:8080/",
          "height": 71
        },
        "outputId": "111f552d-e741-4c28-a2eb-7bfedb9308a1"
      },
      "source": [
        "from telegram.ext import Updater,CommandHandler\n",
        "import requests  # Getting the data from the cloud\n",
        "\n",
        "def get_url():\n",
        "    contents = requests.get('https://random.dog/woof.json').json()\n",
        "    url = contents['url']\n",
        "    return url\n",
        "\n",
        "def dog(bot,update):\n",
        "    url = get_url()\n",
        "    chat_id = update.message.chat_id\n",
        "    bot.send_photo(chat_id,photo=url)\n",
        "\n",
        "u = Updater('1393159011:AAH8_a0tlukW6nZKY2a06u29l-Y9L9xWQ6I')\n",
        "dp = u.dispatcher\n",
        "dp.add_handler(CommandHandler('dog',dog))\n",
        "u.start_polling()\n",
        "u.idle()\n",
        "\n"
      ],
      "execution_count": null,
      "outputs": [
        {
          "output_type": "stream",
          "text": [
            "/usr/local/lib/python3.6/dist-packages/ipykernel_launcher.py:14: TelegramDeprecationWarning: Old Handler API is deprecated - see https://git.io/fxJuV for details\n",
            "  \n"
          ],
          "name": "stderr"
        }
      ]
    }
  ]
}